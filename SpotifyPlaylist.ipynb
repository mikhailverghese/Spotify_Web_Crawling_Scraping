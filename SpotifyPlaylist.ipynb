{
 "cells": [
  {
   "cell_type": "code",
   "execution_count": 70,
   "metadata": {},
   "outputs": [],
   "source": [
    "import pandas as pd\n",
    "import numpy as np\n",
    "import requests\n",
    "from selenium import webdriver\n",
    "from selenium.webdriver.common.keys import Keys\n",
    "#must pip install requests and selenium libraries in order for this to work"
   ]
  },
  {
   "cell_type": "code",
   "execution_count": 51,
   "metadata": {},
   "outputs": [],
   "source": [
    "browser= webdriver.Chrome(\"chromedriver\")\n",
    "#download chromedriver.exe from https://chromedriver.storage.googleapis.com/index.html?path=74.0.3729.6/ and store in\n",
    "#project folder"
   ]
  },
  {
   "cell_type": "code",
   "execution_count": 243,
   "metadata": {},
   "outputs": [],
   "source": [
    "browser.get(\"https://open.spotify.com/playlist/0ScWlJ7pCqtG3DAUKo9JeO\")\n",
    "#put URL of spotify playlist here"
   ]
  },
  {
   "cell_type": "code",
   "execution_count": 244,
   "metadata": {},
   "outputs": [],
   "source": [
    "html=browser.page_source\n",
    "#get html source code for webpage"
   ]
  },
  {
   "cell_type": "code",
   "execution_count": 245,
   "metadata": {},
   "outputs": [],
   "source": [
    "elem=html.split(\"tracklist-name\")\n",
    "#parse and filter source code for desired data such as title,artist,duration,year,etc."
   ]
  },
  {
   "cell_type": "code",
   "execution_count": 246,
   "metadata": {},
   "outputs": [
    {
     "data": {
      "text/plain": [
       "'Building a Ladder'"
      ]
     },
     "execution_count": 246,
     "metadata": {},
     "output_type": "execute_result"
    }
   ],
   "source": [
    "import html\n",
    "name=html.unescape(elem[1].split(\"dir=\\\"auto\\\">\")[1].split(\"</div>\")[0])\n",
    "#html.unescape removes/fixes all html formatted text such as replacing '&amp;' with '&' etc.\n",
    "name"
   ]
  },
  {
   "cell_type": "code",
   "execution_count": 247,
   "metadata": {},
   "outputs": [
    {
     "data": {
      "text/plain": [
       "'Hiatus Kaiyote'"
      ]
     },
     "execution_count": 247,
     "metadata": {},
     "output_type": "execute_result"
    }
   ],
   "source": [
    "artist=html.unescape(elem[1].split(\"tracklist-row__artist-name-link\")[1].split(\"\\\">\")[1].split(\"</a>\")[0])\n",
    "artist"
   ]
  },
  {
   "cell_type": "code",
   "execution_count": 248,
   "metadata": {},
   "outputs": [
    {
     "data": {
      "text/plain": [
       "'Choose Your Weapon'"
      ]
     },
     "execution_count": 248,
     "metadata": {},
     "output_type": "execute_result"
    }
   ],
   "source": [
    "album=html.unescape(elem[1].split(\"tracklist-row__album-name-link\")[1].split(\"\\\">\")[1].split(\"</a>\")[0])\n",
    "album"
   ]
  },
  {
   "cell_type": "code",
   "execution_count": 249,
   "metadata": {},
   "outputs": [
    {
     "data": {
      "text/plain": [
       "'5:42'"
      ]
     },
     "execution_count": 249,
     "metadata": {},
     "output_type": "execute_result"
    }
   ],
   "source": [
    "duration=elem[1].split(\"tracklist-duration tracklist-top-align\\\"><span>\")[1].split(\"<\")[0]\n",
    "duration"
   ]
  },
  {
   "cell_type": "code",
   "execution_count": 250,
   "metadata": {},
   "outputs": [
    {
     "data": {
      "text/plain": [
       "'https://open.spotify.com/album/3qzmmmRmVBiOuMvrerfW4z'"
      ]
     },
     "execution_count": 250,
     "metadata": {},
     "output_type": "execute_result"
    }
   ],
   "source": [
    "albumurl=\"https://open.spotify.com\"+elem[1].split(\"class=\\\"tracklist-row__album-name-link\\\" href=\\\"\")[1].split(\"\\\">\")[0]\n",
    "albumurl"
   ]
  },
  {
   "cell_type": "code",
   "execution_count": 251,
   "metadata": {},
   "outputs": [
    {
     "data": {
      "text/plain": [
       "'https://open.spotify.com/artist/43JlwunhXm1oqdKyOa2Z9Y/about'"
      ]
     },
     "execution_count": 251,
     "metadata": {},
     "output_type": "execute_result"
    }
   ],
   "source": [
    "artisturl=\"https://open.spotify.com\"+elem[1].split(\"href=\\\"\")[1].split(\"\\\">\")[0]+\"/about\"\n",
    "artisturl"
   ]
  },
  {
   "cell_type": "code",
   "execution_count": 252,
   "metadata": {},
   "outputs": [],
   "source": [
    "link=requests.get(albumurl)\n",
    "source=link.text\n",
    "#visit album webpage to get data regarding year of release"
   ]
  },
  {
   "cell_type": "code",
   "execution_count": 253,
   "metadata": {},
   "outputs": [
    {
     "data": {
      "text/plain": [
       "'2015'"
      ]
     },
     "execution_count": 253,
     "metadata": {},
     "output_type": "execute_result"
    }
   ],
   "source": [
    "year=source.split(\"music:release_date\\\" content=\\\"\")[1][0:4]\n",
    "year"
   ]
  },
  {
   "cell_type": "code",
   "execution_count": 254,
   "metadata": {},
   "outputs": [],
   "source": [
    "link=requests.get(artisturl)\n",
    "source=link.text\n",
    "#visit artist webpage to get data regarding number of monthly listeners, location(city) of highest number of listeners"
   ]
  },
  {
   "cell_type": "code",
   "execution_count": 255,
   "metadata": {},
   "outputs": [
    {
     "data": {
      "text/plain": [
       "'London, GB'"
      ]
     },
     "execution_count": 255,
     "metadata": {},
     "output_type": "execute_result"
    }
   ],
   "source": [
    "popularcity=source.split(\"<span class=\\\"horizontal-list__item__title\\\" dir=\\\"auto\\\">\")[1].split(\"<\")[0]\n",
    "popularcity\n",
    "#city where most listeners live"
   ]
  },
  {
   "cell_type": "code",
   "execution_count": 256,
   "metadata": {},
   "outputs": [
    {
     "data": {
      "text/plain": [
       "'19635'"
      ]
     },
     "execution_count": 256,
     "metadata": {},
     "output_type": "execute_result"
    }
   ],
   "source": [
    "cityfollowers=source.split(\"<span class=\\\"horizontal-list__item__subtitle\\\">\")[1].split()[0].replace(\",\",\"\")\n",
    "cityfollowers\n",
    "#number of listeners for this artist from this city"
   ]
  },
  {
   "cell_type": "code",
   "execution_count": 257,
   "metadata": {},
   "outputs": [
    {
     "data": {
      "text/plain": [
       "'586426'"
      ]
     },
     "execution_count": 257,
     "metadata": {},
     "output_type": "execute_result"
    }
   ],
   "source": [
    "monthlylisteners=source.split(\"Monthly Listeners: \")[1].split(\",\")[0].replace(\",\",\"\")\n",
    "monthlylisteners\n",
    "#number of listeners for this artist per month"
   ]
  },
  {
   "cell_type": "code",
   "execution_count": 258,
   "metadata": {},
   "outputs": [],
   "source": [
    "import html\n",
    "songs=[]\n",
    "for x in elem[1:]:\n",
    "    name=html.unescape(x.split(\"dir=\\\"auto\\\">\")[1].split(\"</div>\")[0])\n",
    "    artist=html.unescape(x.split(\"tracklist-row__artist-name-link\")[1].split(\"\\\">\")[1].split(\"</a>\")[0])\n",
    "    album=html.unescape(x.split(\"tracklist-row__album-name-link\")[1].split(\"\\\">\")[1].split(\"</a>\")[0])\n",
    "    duration=x.split(\"tracklist-duration tracklist-top-align\\\"><span>\")[1].split(\"<\")[0]\n",
    "    albumurl=\"https://open.spotify.com\"+x.split(\"class=\\\"tracklist-row__album-name-link\\\" href=\\\"\")[1].split(\"\\\">\")[0]\n",
    "    artisturl=\"https://open.spotify.com\"+x.split(\"href=\\\"\")[1].split(\"\\\">\")[0]+\"/about\"\n",
    "    playlist=html.unescape(elem[0].split(\"content=\\\"\")[1].split(\",\")[0])\n",
    "    playlistby=html.unescape(elem[0].split(\", a playlist by \")[1].split(\" on Spotify\\\">\")[0])\n",
    "    \n",
    "    link=requests.get(albumurl)\n",
    "    source=link.text\n",
    "    \n",
    "    year=source.split(\"music:release_date\\\" content=\\\"\")[1][0:4].replace(\",\",\"\")\n",
    "    \n",
    "    link=requests.get(artisturl)\n",
    "    source=link.text\n",
    "    \n",
    "    if \"Monthly Listeners:\" in source:\n",
    "        monthlylisteners=source.split(\"Monthly Listeners: \")[1].split(\",\")[0].replace(\",\",\"\")\n",
    "        popularcity=source.split(\"<span class=\\\"horizontal-list__item__title\\\" dir=\\\"auto\\\">\")[1].split(\"<\")[0]\n",
    "        cityfollowers=source.split(\"<span class=\\\"horizontal-list__item__subtitle\\\">\")[1].split()[0].replace(\",\",\"\")\n",
    "    \n",
    "    \n",
    "    \n",
    "        songs.append([name,artist,album,duration,int(year),int(monthlylisteners),popularcity,int(cityfollowers),playlist,playlistby])"
   ]
  },
  {
   "cell_type": "code",
   "execution_count": 259,
   "metadata": {},
   "outputs": [],
   "source": [
    "#convert songs list into dataframe\n",
    "df= pd.DataFrame(songs,columns=[\"title\",\"artist\",\"album\",\"duration\",\"year\",\"monthlylisteners\",\"popularcity\",\"cityfollowers\",\"playlist\",\"playlistby\"])"
   ]
  },
  {
   "cell_type": "code",
   "execution_count": 260,
   "metadata": {},
   "outputs": [
    {
     "data": {
      "text/html": [
       "<div>\n",
       "<style scoped>\n",
       "    .dataframe tbody tr th:only-of-type {\n",
       "        vertical-align: middle;\n",
       "    }\n",
       "\n",
       "    .dataframe tbody tr th {\n",
       "        vertical-align: top;\n",
       "    }\n",
       "\n",
       "    .dataframe thead th {\n",
       "        text-align: right;\n",
       "    }\n",
       "</style>\n",
       "<table border=\"1\" class=\"dataframe\">\n",
       "  <thead>\n",
       "    <tr style=\"text-align: right;\">\n",
       "      <th></th>\n",
       "      <th>title</th>\n",
       "      <th>artist</th>\n",
       "      <th>album</th>\n",
       "      <th>duration</th>\n",
       "      <th>year</th>\n",
       "      <th>monthlylisteners</th>\n",
       "      <th>popularcity</th>\n",
       "      <th>cityfollowers</th>\n",
       "      <th>playlist</th>\n",
       "      <th>playlistby</th>\n",
       "    </tr>\n",
       "  </thead>\n",
       "  <tbody>\n",
       "    <tr>\n",
       "      <th>0</th>\n",
       "      <td>Building a Ladder</td>\n",
       "      <td>Hiatus Kaiyote</td>\n",
       "      <td>Choose Your Weapon</td>\n",
       "      <td>5:42</td>\n",
       "      <td>2015</td>\n",
       "      <td>586426</td>\n",
       "      <td>London, GB</td>\n",
       "      <td>19635</td>\n",
       "      <td>Building a Ladder – Hiatus Kaiyote</td>\n",
       "      <td>ännas</td>\n",
       "    </tr>\n",
       "    <tr>\n",
       "      <th>1</th>\n",
       "      <td>You Keep Me Waiting</td>\n",
       "      <td>Snoh Aalegra</td>\n",
       "      <td>FEELS</td>\n",
       "      <td>4:27</td>\n",
       "      <td>2017</td>\n",
       "      <td>1224068</td>\n",
       "      <td>Los Angeles, US</td>\n",
       "      <td>44864</td>\n",
       "      <td>Building a Ladder – Hiatus Kaiyote</td>\n",
       "      <td>ännas</td>\n",
       "    </tr>\n",
       "    <tr>\n",
       "      <th>2</th>\n",
       "      <td>Red Clay</td>\n",
       "      <td>Charlotte Dos Santos</td>\n",
       "      <td>Red Clay</td>\n",
       "      <td>2:20</td>\n",
       "      <td>2017</td>\n",
       "      <td>143505</td>\n",
       "      <td>London, GB</td>\n",
       "      <td>7590</td>\n",
       "      <td>Building a Ladder – Hiatus Kaiyote</td>\n",
       "      <td>ännas</td>\n",
       "    </tr>\n",
       "    <tr>\n",
       "      <th>3</th>\n",
       "      <td>Dirty Hercules (feat Nai Palm)</td>\n",
       "      <td>Ngaiire</td>\n",
       "      <td>Lamentations</td>\n",
       "      <td>4:00</td>\n",
       "      <td>2013</td>\n",
       "      <td>61972</td>\n",
       "      <td>Melbourne, AU</td>\n",
       "      <td>3257</td>\n",
       "      <td>Building a Ladder – Hiatus Kaiyote</td>\n",
       "      <td>ännas</td>\n",
       "    </tr>\n",
       "    <tr>\n",
       "      <th>4</th>\n",
       "      <td>Molasses</td>\n",
       "      <td>Hiatus Kaiyote</td>\n",
       "      <td>Choose Your Weapon</td>\n",
       "      <td>4:49</td>\n",
       "      <td>2015</td>\n",
       "      <td>586426</td>\n",
       "      <td>London, GB</td>\n",
       "      <td>19635</td>\n",
       "      <td>Building a Ladder – Hiatus Kaiyote</td>\n",
       "      <td>ännas</td>\n",
       "    </tr>\n",
       "  </tbody>\n",
       "</table>\n",
       "</div>"
      ],
      "text/plain": [
       "                            title                artist               album  \\\n",
       "0               Building a Ladder        Hiatus Kaiyote  Choose Your Weapon   \n",
       "1             You Keep Me Waiting          Snoh Aalegra               FEELS   \n",
       "2                        Red Clay  Charlotte Dos Santos            Red Clay   \n",
       "3  Dirty Hercules (feat Nai Palm)               Ngaiire        Lamentations   \n",
       "4                        Molasses        Hiatus Kaiyote  Choose Your Weapon   \n",
       "\n",
       "  duration  year  monthlylisteners      popularcity  cityfollowers  \\\n",
       "0     5:42  2015            586426       London, GB          19635   \n",
       "1     4:27  2017           1224068  Los Angeles, US          44864   \n",
       "2     2:20  2017            143505       London, GB           7590   \n",
       "3     4:00  2013             61972    Melbourne, AU           3257   \n",
       "4     4:49  2015            586426       London, GB          19635   \n",
       "\n",
       "                             playlist playlistby  \n",
       "0  Building a Ladder – Hiatus Kaiyote      ännas  \n",
       "1  Building a Ladder – Hiatus Kaiyote      ännas  \n",
       "2  Building a Ladder – Hiatus Kaiyote      ännas  \n",
       "3  Building a Ladder – Hiatus Kaiyote      ännas  \n",
       "4  Building a Ladder – Hiatus Kaiyote      ännas  "
      ]
     },
     "execution_count": 260,
     "metadata": {},
     "output_type": "execute_result"
    }
   ],
   "source": [
    "df.head()"
   ]
  },
  {
   "cell_type": "code",
   "execution_count": 261,
   "metadata": {},
   "outputs": [],
   "source": [
    "#check to see if datafile already exists\n",
    "try:\n",
    "    df2= pd.read_csv(\"spotify.csv\")\n",
    "except:\n",
    "    print(\"No File\")\n",
    "    df2= pd.DataFrame()"
   ]
  },
  {
   "cell_type": "code",
   "execution_count": 262,
   "metadata": {},
   "outputs": [],
   "source": [
    "#union between old data and new data\n",
    "dftotal= pd.concat([df, df2])"
   ]
  },
  {
   "cell_type": "code",
   "execution_count": 263,
   "metadata": {},
   "outputs": [],
   "source": [
    "#store combined data in csv file\n",
    "dftotal.to_csv(\"spotify.csv\",index=False)"
   ]
  },
  {
   "cell_type": "code",
   "execution_count": null,
   "metadata": {},
   "outputs": [],
   "source": []
  }
 ],
 "metadata": {
  "kernelspec": {
   "display_name": "Python 3",
   "language": "python",
   "name": "python3"
  },
  "language_info": {
   "codemirror_mode": {
    "name": "ipython",
    "version": 3
   },
   "file_extension": ".py",
   "mimetype": "text/x-python",
   "name": "python",
   "nbconvert_exporter": "python",
   "pygments_lexer": "ipython3",
   "version": "3.7.1"
  }
 },
 "nbformat": 4,
 "nbformat_minor": 2
}
